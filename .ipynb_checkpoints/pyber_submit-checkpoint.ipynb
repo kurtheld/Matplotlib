{
 "cells": [
  {
   "cell_type": "code",
   "execution_count": 108,
   "metadata": {},
   "outputs": [],
   "source": [
    "%matplotlib inline\n",
    "# Dependencies and Setup\n",
    "import matplotlib.pyplot as plt\n",
    "import pandas as pd\n",
    "import numpy as np\n",
    "\n",
    "# Dara files loaded, provided by instructor \n",
    "file_to_load_1 = \"city_data.csv\"\n",
    "file_to_load_2 = \"ride_data.csv\"\n",
    "\n",
    "# Read city and ride, then store into Pandas data frame\n",
    "city_data_df = pd.read_csv(file_to_load_1)\n",
    "ride_data_df = pd.read_csv(file_to_load_2)"
   ]
  },
  {
   "cell_type": "code",
   "execution_count": 109,
   "metadata": {},
   "outputs": [
    {
     "data": {
      "text/html": [
       "<div>\n",
       "<style scoped>\n",
       "    .dataframe tbody tr th:only-of-type {\n",
       "        vertical-align: middle;\n",
       "    }\n",
       "\n",
       "    .dataframe tbody tr th {\n",
       "        vertical-align: top;\n",
       "    }\n",
       "\n",
       "    .dataframe thead th {\n",
       "        text-align: right;\n",
       "    }\n",
       "</style>\n",
       "<table border=\"1\" class=\"dataframe\">\n",
       "  <thead>\n",
       "    <tr style=\"text-align: right;\">\n",
       "      <th></th>\n",
       "      <th>city</th>\n",
       "      <th>driver_count</th>\n",
       "      <th>type</th>\n",
       "    </tr>\n",
       "  </thead>\n",
       "  <tbody>\n",
       "    <tr>\n",
       "      <th>0</th>\n",
       "      <td>Richardfort</td>\n",
       "      <td>38</td>\n",
       "      <td>Urban</td>\n",
       "    </tr>\n",
       "    <tr>\n",
       "      <th>1</th>\n",
       "      <td>Williamsstad</td>\n",
       "      <td>59</td>\n",
       "      <td>Urban</td>\n",
       "    </tr>\n",
       "    <tr>\n",
       "      <th>2</th>\n",
       "      <td>Port Angela</td>\n",
       "      <td>67</td>\n",
       "      <td>Urban</td>\n",
       "    </tr>\n",
       "    <tr>\n",
       "      <th>3</th>\n",
       "      <td>Rodneyfort</td>\n",
       "      <td>34</td>\n",
       "      <td>Urban</td>\n",
       "    </tr>\n",
       "    <tr>\n",
       "      <th>4</th>\n",
       "      <td>West Robert</td>\n",
       "      <td>39</td>\n",
       "      <td>Urban</td>\n",
       "    </tr>\n",
       "  </tbody>\n",
       "</table>\n",
       "</div>"
      ],
      "text/plain": [
       "           city  driver_count   type\n",
       "0   Richardfort            38  Urban\n",
       "1  Williamsstad            59  Urban\n",
       "2   Port Angela            67  Urban\n",
       "3    Rodneyfort            34  Urban\n",
       "4   West Robert            39  Urban"
      ]
     },
     "execution_count": 109,
     "metadata": {},
     "output_type": "execute_result"
    }
   ],
   "source": [
    "# check city data\n",
    "city_data_df.head()"
   ]
  },
  {
   "cell_type": "code",
   "execution_count": 110,
   "metadata": {},
   "outputs": [
    {
     "data": {
      "text/html": [
       "<div>\n",
       "<style scoped>\n",
       "    .dataframe tbody tr th:only-of-type {\n",
       "        vertical-align: middle;\n",
       "    }\n",
       "\n",
       "    .dataframe tbody tr th {\n",
       "        vertical-align: top;\n",
       "    }\n",
       "\n",
       "    .dataframe thead th {\n",
       "        text-align: right;\n",
       "    }\n",
       "</style>\n",
       "<table border=\"1\" class=\"dataframe\">\n",
       "  <thead>\n",
       "    <tr style=\"text-align: right;\">\n",
       "      <th></th>\n",
       "      <th>city</th>\n",
       "      <th>date</th>\n",
       "      <th>fare</th>\n",
       "      <th>ride_id</th>\n",
       "    </tr>\n",
       "  </thead>\n",
       "  <tbody>\n",
       "    <tr>\n",
       "      <th>0</th>\n",
       "      <td>Lake Jonathanshire</td>\n",
       "      <td>1/14/2018 10:14</td>\n",
       "      <td>13.83</td>\n",
       "      <td>5.739410e+12</td>\n",
       "    </tr>\n",
       "    <tr>\n",
       "      <th>1</th>\n",
       "      <td>South Michelleport</td>\n",
       "      <td>3/4/2018 18:24</td>\n",
       "      <td>30.24</td>\n",
       "      <td>2.343910e+12</td>\n",
       "    </tr>\n",
       "    <tr>\n",
       "      <th>2</th>\n",
       "      <td>Port Samanthamouth</td>\n",
       "      <td>2/24/2018 4:29</td>\n",
       "      <td>33.44</td>\n",
       "      <td>2.005070e+12</td>\n",
       "    </tr>\n",
       "    <tr>\n",
       "      <th>3</th>\n",
       "      <td>Rodneyfort</td>\n",
       "      <td>2/10/2018 23:22</td>\n",
       "      <td>23.44</td>\n",
       "      <td>5.149250e+12</td>\n",
       "    </tr>\n",
       "    <tr>\n",
       "      <th>4</th>\n",
       "      <td>South Jack</td>\n",
       "      <td>3/6/2018 4:28</td>\n",
       "      <td>34.58</td>\n",
       "      <td>3.908450e+12</td>\n",
       "    </tr>\n",
       "  </tbody>\n",
       "</table>\n",
       "</div>"
      ],
      "text/plain": [
       "                 city             date   fare       ride_id\n",
       "0  Lake Jonathanshire  1/14/2018 10:14  13.83  5.739410e+12\n",
       "1  South Michelleport   3/4/2018 18:24  30.24  2.343910e+12\n",
       "2  Port Samanthamouth   2/24/2018 4:29  33.44  2.005070e+12\n",
       "3          Rodneyfort  2/10/2018 23:22  23.44  5.149250e+12\n",
       "4          South Jack    3/6/2018 4:28  34.58  3.908450e+12"
      ]
     },
     "execution_count": 110,
     "metadata": {},
     "output_type": "execute_result"
    }
   ],
   "source": [
    "# check ride data\n",
    "ride_data_df.head()"
   ]
  },
  {
   "cell_type": "code",
   "execution_count": 111,
   "metadata": {
    "scrolled": true
   },
   "outputs": [
    {
     "data": {
      "text/html": [
       "<div>\n",
       "<style scoped>\n",
       "    .dataframe tbody tr th:only-of-type {\n",
       "        vertical-align: middle;\n",
       "    }\n",
       "\n",
       "    .dataframe tbody tr th {\n",
       "        vertical-align: top;\n",
       "    }\n",
       "\n",
       "    .dataframe thead th {\n",
       "        text-align: right;\n",
       "    }\n",
       "</style>\n",
       "<table border=\"1\" class=\"dataframe\">\n",
       "  <thead>\n",
       "    <tr style=\"text-align: right;\">\n",
       "      <th></th>\n",
       "      <th>city</th>\n",
       "      <th>driver_count</th>\n",
       "      <th>type</th>\n",
       "      <th>date</th>\n",
       "      <th>fare</th>\n",
       "      <th>ride_id</th>\n",
       "    </tr>\n",
       "  </thead>\n",
       "  <tbody>\n",
       "    <tr>\n",
       "      <th>0</th>\n",
       "      <td>Richardfort</td>\n",
       "      <td>38</td>\n",
       "      <td>Urban</td>\n",
       "      <td>2/24/2018 8:40</td>\n",
       "      <td>13.93</td>\n",
       "      <td>5.628550e+12</td>\n",
       "    </tr>\n",
       "    <tr>\n",
       "      <th>1</th>\n",
       "      <td>Richardfort</td>\n",
       "      <td>38</td>\n",
       "      <td>Urban</td>\n",
       "      <td>2/13/2018 12:46</td>\n",
       "      <td>14.00</td>\n",
       "      <td>9.100500e+11</td>\n",
       "    </tr>\n",
       "    <tr>\n",
       "      <th>2</th>\n",
       "      <td>Richardfort</td>\n",
       "      <td>38</td>\n",
       "      <td>Urban</td>\n",
       "      <td>2/16/2018 13:52</td>\n",
       "      <td>17.92</td>\n",
       "      <td>8.206390e+11</td>\n",
       "    </tr>\n",
       "    <tr>\n",
       "      <th>3</th>\n",
       "      <td>Richardfort</td>\n",
       "      <td>38</td>\n",
       "      <td>Urban</td>\n",
       "      <td>2/1/2018 20:18</td>\n",
       "      <td>10.26</td>\n",
       "      <td>9.554940e+12</td>\n",
       "    </tr>\n",
       "    <tr>\n",
       "      <th>4</th>\n",
       "      <td>Richardfort</td>\n",
       "      <td>38</td>\n",
       "      <td>Urban</td>\n",
       "      <td>4/17/2018 2:26</td>\n",
       "      <td>23.00</td>\n",
       "      <td>7.200210e+11</td>\n",
       "    </tr>\n",
       "  </tbody>\n",
       "</table>\n",
       "</div>"
      ],
      "text/plain": [
       "          city  driver_count   type             date   fare       ride_id\n",
       "0  Richardfort            38  Urban   2/24/2018 8:40  13.93  5.628550e+12\n",
       "1  Richardfort            38  Urban  2/13/2018 12:46  14.00  9.100500e+11\n",
       "2  Richardfort            38  Urban  2/16/2018 13:52  17.92  8.206390e+11\n",
       "3  Richardfort            38  Urban   2/1/2018 20:18  10.26  9.554940e+12\n",
       "4  Richardfort            38  Urban   4/17/2018 2:26  23.00  7.200210e+11"
      ]
     },
     "execution_count": 111,
     "metadata": {},
     "output_type": "execute_result"
    }
   ],
   "source": [
    "# Combine the two data frame files using the merge function.  Set city as an inner (intersection key from both frames.\n",
    "combo_data_df = city_data_df.merge(ride_data_df, on = \"city\", )\n",
    "combo_data_df.head()"
   ]
  },
  {
   "cell_type": "code",
   "execution_count": 112,
   "metadata": {},
   "outputs": [],
   "source": [
    "# Separated the types of data by creating a new data frame and grouped by city - thsi case Urban\n",
    "Urban = combo_data_df[combo_data_df.type == \"Urban\"].groupby(\"city\")\n",
    "# Urban.head()"
   ]
  },
  {
   "cell_type": "code",
   "execution_count": 113,
   "metadata": {},
   "outputs": [
    {
     "data": {
      "text/plain": [
       "city\n",
       "Amandaburgh         216\n",
       "Barajasview         572\n",
       "Carriemouth        1404\n",
       "Christopherfurt    1107\n",
       "Deanville           931\n",
       "Name: driver_count, dtype: int64"
      ]
     },
     "execution_count": 113,
     "metadata": {},
     "output_type": "execute_result"
    }
   ],
   "source": [
    "Urban_rides=Urban[\"ride_id\"].nunique()\n",
    "Urban_driver=Urban[\"driver_count\"].sum()\n",
    "Urban_fare=Urban[\"fare\"].mean()\n",
    "# Urban_fare.head()\n",
    "Urban_driver.head()\n",
    "# Urban_fare.head()"
   ]
  },
  {
   "cell_type": "code",
   "execution_count": 114,
   "metadata": {},
   "outputs": [],
   "source": [
    "# Separated the types of data by creating a new data frame and grouped by city - thsi case Suburban\n",
    "Suburban = combo_data_df[combo_data_df.type == \"Suburban\"].groupby(\"city\")\n",
    "# Suburban.head()"
   ]
  },
  {
   "cell_type": "code",
   "execution_count": 115,
   "metadata": {},
   "outputs": [],
   "source": [
    "Suburban_rides=Suburban[\"ride_id\"].nunique()\n",
    "Suburban_driver=Suburban[\"driver_count\"].sum()\n",
    "Suburban_fare=Suburban[\"fare\"].mean()\n",
    "# Suburban_rides.head()\n",
    "# Suburban_driver.head()\n",
    "# Suburban_fare.head()"
   ]
  },
  {
   "cell_type": "code",
   "execution_count": 116,
   "metadata": {},
   "outputs": [],
   "source": [
    "# Separated the types of data by creating a new data frame and grouped by city - thsi case Rural\n",
    "Rural = combo_data_df[combo_data_df.type == \"Rural\"].groupby(\"city\")\n",
    "# Suburban.head()"
   ]
  },
  {
   "cell_type": "code",
   "execution_count": 117,
   "metadata": {},
   "outputs": [
    {
     "data": {
      "text/plain": [
       "125"
      ]
     },
     "execution_count": 117,
     "metadata": {},
     "output_type": "execute_result"
    }
   ],
   "source": [
    "Rural_rides=Rural[\"ride_id\"].nunique()\n",
    "Rural_driver=Rural[\"driver_count\"].sum()\n",
    "Rural_fare=Rural[\"fare\"].mean()\n",
    "# Rural_rides.head()\n",
    "# Rural_driver.head()\n",
    "# Rural_fare.head()\n",
    "\n",
    "# Pie Chart Variables\n",
    "Total_Rural_Fare=Rural[\"fare\"].sum()\n",
    "# Total_Rural_Fare.sum()\n",
    "Total_Rural_rides=Rural[\"ride_id\"].count()\n",
    "# Total_Rural_rides.sum()\n",
    "Total_Rural_driver=Rural[\"driver_count\"].count()\n",
    "Total_Rural_driver.sum()"
   ]
  },
  {
   "cell_type": "code",
   "execution_count": 118,
   "metadata": {},
   "outputs": [
    {
     "data": {
      "text/plain": [
       "63538.64"
      ]
     },
     "execution_count": 118,
     "metadata": {},
     "output_type": "execute_result"
    }
   ],
   "source": [
    "# Get mean fares per city by grouping city and fares\n",
    "Total_fare_per_city=combo_data_df.groupby(\"city\")[\"fare\"].sum()\n",
    "Total_Fare=Total_fare_per_city.sum()\n",
    "Total_Fare"
   ]
  },
  {
   "cell_type": "code",
   "execution_count": 119,
   "metadata": {},
   "outputs": [],
   "source": [
    "#list out the variables listed above for easy reference.\n",
    "# x_axis=Ave_fare_per_city\n",
    "# y_axis=Rides_per_city\n",
    "# drivers=Total_drivers_per_city\n",
    "\n",
    "# Urban_rides\n",
    "# Urban_fare\n",
    "# Urban_driver\n",
    "\n",
    "# Suburban_rides\n",
    "# Suburban_fare\n",
    "# Suburban_driver\n",
    "\n",
    "# Rural_rides\n",
    "# Rural_fare\n",
    "# Rural_driver"
   ]
  },
  {
   "cell_type": "markdown",
   "metadata": {},
   "source": [
    "## Bubble Plot of Ride Sharing Data"
   ]
  },
  {
   "cell_type": "code",
   "execution_count": 120,
   "metadata": {},
   "outputs": [
    {
     "data": {
      "image/png": "[encoded data removed]",
      "text/plain": [
       "<Figure size 432x288 with 1 Axes>"
      ]
     },
     "metadata": {
      "needs_background": "light"
     },
     "output_type": "display_data"
    }
   ],
   "source": [
    "# Scatter plot of a.) Average Fare ($) Per City (y-axis) \n",
    "    # b.) Total Number of Rides Per City (x-axix0, \n",
    "    # c.) # Total Number of Drivers Per City (bubble size),and \n",
    "    # d.) City Type (sort by Urban, Suburban, Rural) \n",
    "    \n",
    "Urban_Plot=plt.scatter(Urban_rides, Urban_fare, s=Urban_rides*10, marker=\"o\")\n",
    "Suburban_Plot=plt.scatter(Suburban_rides, Suburban_fare, s=Suburban_rides*10, marker=\"o\")\n",
    "Rural_Plot=plt.scatter(Rural_rides, Rural_fare, s=Rural_rides*10, marker=\"o\")\n",
    "\n",
    "# Formating of scatter plot\n",
    "plt.xlabel(\"Total Number of Rides per City\")\n",
    "plt.ylabel(\"Average Fare ($)\")\n",
    "plt.grid()\n",
    "plt.title(\"Pyber Rider Sharing Data (2016)\")\n",
    "legend=plt.legend([\"Urban\", \"Suburban\", \"Rural\"] ,loc=1)\n",
    "\n",
    "plt.show()\n",
    "plt.text=(50,50,\"Note\")\n",
    "plt.text=(50,50,\"Circle size correlates with drive count in city\")"
   ]
  },
  {
   "cell_type": "markdown",
   "metadata": {},
   "source": [
    "## Total Fares by City Type"
   ]
  },
  {
   "cell_type": "code",
   "execution_count": 121,
   "metadata": {},
   "outputs": [],
   "source": [
    "# Pie Chart Variables for Urban\n",
    "Total_Urban_Fare=Urban[\"fare\"].sum()\n",
    "Total_Urban_rides=Urban[\"ride_id\"].count()\n",
    "Total_Urban_driver=Urban[\"driver_count\"].count()\n",
    "\n",
    "# Total_Urban_Fare.sum()\n",
    "# Total_Urban_rides.sum()\n",
    "# Total_Urban_driver.sum()"
   ]
  },
  {
   "cell_type": "code",
   "execution_count": 122,
   "metadata": {},
   "outputs": [],
   "source": [
    "# Pie Chart Variables for Suburban\n",
    "Total_Suburban_Fare=Suburban[\"fare\"].sum()\n",
    "Total_Suburban_rides=Suburban[\"ride_id\"].count()\n",
    "Total_Suburban_driver=Suburban[\"driver_count\"].count()\n",
    "\n",
    "# Total_Suburban_Fare.sum()\n",
    "# Total_Suburban_rides.sum()\n",
    "# Total_Suburban_driver.sum()"
   ]
  },
  {
   "cell_type": "code",
   "execution_count": 123,
   "metadata": {},
   "outputs": [],
   "source": [
    "# Pie Chart Variables for Rural \n",
    "Total_Rural_Fare=Rural[\"fare\"].sum()\n",
    "Total_Rural_rides=Rural[\"ride_id\"].count()\n",
    "Total_Rural_driver=Rural[\"driver_count\"].count()\n",
    "\n",
    "# Total_Rural_Fare.sum()\n",
    "# Total_Rural_rides.sum()\n",
    "# Total_Rural_driver.sum()"
   ]
  },
  {
   "cell_type": "code",
   "execution_count": 124,
   "metadata": {},
   "outputs": [
    {
     "data": {
      "image/png": "[encoded data removed]",
      "text/plain": [
       "<Figure size 432x288 with 1 Axes>"
      ]
     },
     "metadata": {},
     "output_type": "display_data"
    }
   ],
   "source": [
    "# Total Fares by City Type\n",
    "\n",
    "# Variables\n",
    "labels = 'Urban', 'Suburban', 'Rural'\n",
    "sizes = [Total_Urban_Fare.sum(),Total_Rural_Fare.sum(),Total_Suburban_Fare.sum()]\n",
    "colors = [\"lightcoral\",\"gold\",\"lightblue\"]\n",
    "explode = (0.1, 0, 0)  # only \"explode\" the 1st slice (i.e. 'Urban')\n",
    "\n",
    "# Plot Function\n",
    "plt.pie(sizes, explode=explode, labels=labels, colors=colors,\n",
    "        autopct=\"%1.1f%%\", shadow=True, startangle=270)\n",
    "# Create axes which are equal so we have a perfect circle\n",
    "plt.axis(\"equal\")\n",
    "plt.title(\"% of Total Fares by City Type\")\n",
    "\n",
    "# Save an image of our chart and print the final product to the screen\n",
    "plt.savefig(\"Total_Fares_by_City_TypePyPies.png\")\n",
    "plt.show()"
   ]
  },
  {
   "cell_type": "markdown",
   "metadata": {},
   "source": [
    "## Total Rides by City Type"
   ]
  },
  {
   "cell_type": "code",
   "execution_count": 125,
   "metadata": {},
   "outputs": [
    {
     "data": {
      "image/png": "[encoded data removed]",
      "text/plain": [
       "<Figure size 432x288 with 1 Axes>"
      ]
     },
     "metadata": {},
     "output_type": "display_data"
    }
   ],
   "source": [
    "# Total Rides by City Type\n",
    "\n",
    "# Variables\n",
    "labels = 'Urban', 'Suburban', 'Rural'\n",
    "sizes = [Total_Urban_rides.sum(),Total_Rural_rides.sum(),Total_Suburban_rides.sum()]\n",
    "colors = [\"lightcoral\",\"gold\",\"lightblue\"]\n",
    "explode = (0.1, 0, 0)  # only \"explode\" the 1st slice (i.e. 'Urban')\n",
    "\n",
    "# Plot Function\n",
    "plt.pie(sizes, explode=explode, labels=labels, colors=colors,\n",
    "        autopct=\"%1.1f%%\", shadow=True, startangle=270)\n",
    "# Create axes which are equal so we have a perfect circle\n",
    "plt.axis(\"equal\")\n",
    "plt.title(\"% of Total Rides by City Type\")\n",
    "\n",
    "# Save an image of our chart and print the final product to the screen\n",
    "plt.savefig(\"Total_Rides_by_City_TypePyPies.png\")\n",
    "plt.show()\n"
   ]
  },
  {
   "cell_type": "markdown",
   "metadata": {},
   "source": [
    "## Total Drivers by City Type"
   ]
  },
  {
   "cell_type": "code",
   "execution_count": 126,
   "metadata": {},
   "outputs": [
    {
     "data": {
      "image/png": "[encoded data removed]",
      "text/plain": [
       "<Figure size 432x288 with 1 Axes>"
      ]
     },
     "metadata": {},
     "output_type": "display_data"
    }
   ],
   "source": [
    "# Variables\n",
    "labels = 'Urban', 'Suburban', 'Rural'\n",
    "sizes = [Total_Urban_driver.sum(),Total_Rural_driver.sum(),Total_Suburban_driver.sum()]\n",
    "colors = [\"lightcoral\",\"gold\",\"lightblue\"]\n",
    "explode = (0.1, 0, 0)  # only \"explode\" the 1st slice (i.e. 'Urban')\n",
    "\n",
    "# Plot Function\n",
    "plt.pie(sizes, explode=explode, labels=labels, colors=colors,\n",
    "        autopct=\"%1.1f%%\", shadow=True, startangle=270)\n",
    "# Create axes which are equal so we have a perfect circle\n",
    "plt.axis(\"equal\")\n",
    "plt.title(\"% of Total Drivers by City Type\")\n",
    "\n",
    "# Save an image of our chart and print the final product to the screen\n",
    "plt.savefig(\"Total_Drives_by_City_TypePyPies.png\")\n",
    "plt.show()"
   ]
  }
 ],
 "metadata": {
  "anaconda-cloud": {},
  "kernelspec": {
   "display_name": "Python 3",
   "language": "python",
   "name": "python3"
  },
  "language_info": {
   "codemirror_mode": {
    "name": "ipython",
    "version": 3
   },
   "file_extension": ".py",
   "mimetype": "text/x-python",
   "name": "python",
   "nbconvert_exporter": "python",
   "pygments_lexer": "ipython3",
   "version": "3.7.1"
  }
 },
 "nbformat": 4,
 "nbformat_minor": 2
}
